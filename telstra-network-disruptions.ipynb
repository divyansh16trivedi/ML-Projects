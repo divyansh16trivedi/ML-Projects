{
 "cells": [
  {
   "cell_type": "markdown",
   "id": "a79f06fc",
   "metadata": {
    "papermill": {
     "duration": 0.033339,
     "end_time": "2021-08-29T13:56:45.903899",
     "exception": false,
     "start_time": "2021-08-29T13:56:45.870560",
     "status": "completed"
    },
    "tags": []
   },
   "source": [
    "# Telstra Network Disruptions"
   ]
  },
  {
   "cell_type": "markdown",
   "id": "f5afe5fd",
   "metadata": {
    "papermill": {
     "duration": 0.03252,
     "end_time": "2021-08-29T13:56:45.968740",
     "exception": false,
     "start_time": "2021-08-29T13:56:45.936220",
     "status": "completed"
    },
    "tags": []
   },
   "source": [
    "Telstra is the largest Telecom Service Provider in Australia. They posted this challenge on kaggle few years ago as part of their recruitment exercise to hire potential data scientists. We are given a data set which is from Telstra’s service logs and we are required to predict the severity of service disruptions (if a disruption is a temporary glitch or is it critical and will result in total loss of service).  This challenge was crafted as a simulation of the type of problem one might encounter as a member of data science team at Telstra."
   ]
  },
  {
   "cell_type": "markdown",
   "id": "c9f6b325",
   "metadata": {
    "papermill": {
     "duration": 0.031462,
     "end_time": "2021-08-29T13:56:46.031933",
     "exception": false,
     "start_time": "2021-08-29T13:56:46.000471",
     "status": "completed"
    },
    "tags": []
   },
   "source": [
    "# Data Preprocessing"
   ]
  },
  {
   "cell_type": "markdown",
   "id": "3ad4335c",
   "metadata": {
    "papermill": {
     "duration": 0.032151,
     "end_time": "2021-08-29T13:56:46.097042",
     "exception": false,
     "start_time": "2021-08-29T13:56:46.064891",
     "status": "completed"
    },
    "tags": []
   },
   "source": [
    "**Making the initial imports and suppress the un-wanted warning messages**"
   ]
  },
  {
   "cell_type": "code",
   "execution_count": 1,
   "id": "17d8e73d",
   "metadata": {
    "execution": {
     "iopub.execute_input": "2021-08-29T13:56:46.176126Z",
     "iopub.status.busy": "2021-08-29T13:56:46.175384Z",
     "iopub.status.idle": "2021-08-29T13:56:47.258090Z",
     "shell.execute_reply": "2021-08-29T13:56:47.257375Z",
     "shell.execute_reply.started": "2021-08-29T13:18:25.181834Z"
    },
    "papermill": {
     "duration": 1.129364,
     "end_time": "2021-08-29T13:56:47.258274",
     "exception": false,
     "start_time": "2021-08-29T13:56:46.128910",
     "status": "completed"
    },
    "tags": []
   },
   "outputs": [],
   "source": [
    "import numpy as np\n",
    "import pandas as pd\n",
    "import seaborn as sns\n",
    "sns.set_style(\"whitegrid\")\n",
    "import matplotlib.pyplot as plt\n",
    "%matplotlib inline"
   ]
  },
  {
   "cell_type": "code",
   "execution_count": 2,
   "id": "2aaedcc2",
   "metadata": {
    "execution": {
     "iopub.execute_input": "2021-08-29T13:56:47.327596Z",
     "iopub.status.busy": "2021-08-29T13:56:47.326924Z",
     "iopub.status.idle": "2021-08-29T13:56:47.329725Z",
     "shell.execute_reply": "2021-08-29T13:56:47.330215Z",
     "shell.execute_reply.started": "2021-08-29T13:18:35.566498Z"
    },
    "papermill": {
     "duration": 0.039322,
     "end_time": "2021-08-29T13:56:47.330471",
     "exception": false,
     "start_time": "2021-08-29T13:56:47.291149",
     "status": "completed"
    },
    "tags": []
   },
   "outputs": [],
   "source": [
    "import warnings\n",
    "warnings.filterwarnings('ignore')"
   ]
  },
  {
   "cell_type": "markdown",
   "id": "feffb8d3",
   "metadata": {
    "papermill": {
     "duration": 0.032044,
     "end_time": "2021-08-29T13:56:47.394371",
     "exception": false,
     "start_time": "2021-08-29T13:56:47.362327",
     "status": "completed"
    },
    "tags": []
   },
   "source": [
    "**Reading the files**"
   ]
  },
  {
   "cell_type": "code",
   "execution_count": 3,
   "id": "70979116",
   "metadata": {
    "execution": {
     "iopub.execute_input": "2021-08-29T13:56:47.465002Z",
     "iopub.status.busy": "2021-08-29T13:56:47.464284Z",
     "iopub.status.idle": "2021-08-29T13:56:47.678390Z",
     "shell.execute_reply": "2021-08-29T13:56:47.677563Z",
     "shell.execute_reply.started": "2021-08-29T13:26:57.252036Z"
    },
    "papermill": {
     "duration": 0.252304,
     "end_time": "2021-08-29T13:56:47.678585",
     "exception": false,
     "start_time": "2021-08-29T13:56:47.426281",
     "status": "completed"
    },
    "tags": []
   },
   "outputs": [],
   "source": [
    "train = pd.read_csv('../input/telstra-recruiting-network/train.csv.zip')\n",
    "test = pd.read_csv('../input/telstra-recruiting-network/test.csv.zip')\n",
    "severity_type = pd.read_csv('../input/telstra-recruiting-network/severity_type.csv.zip', error_bad_lines= False, warn_bad_lines= False)\n",
    "resource_type = pd.read_csv('../input/telstra-recruiting-network/resource_type.csv.zip', error_bad_lines= False, warn_bad_lines= False)\n",
    "log_failure = pd.read_csv('../input/telstra-recruiting-network/log_feature.csv.zip', error_bad_lines= False, warn_bad_lines= False)\n",
    "event_type = pd.read_csv('../input/telstra-recruiting-network/event_type.csv.zip', error_bad_lines=False, warn_bad_lines= False)"
   ]
  },
  {
   "cell_type": "markdown",
   "id": "095e8d7a",
   "metadata": {
    "papermill": {
     "duration": 0.032259,
     "end_time": "2021-08-29T13:56:47.744635",
     "exception": false,
     "start_time": "2021-08-29T13:56:47.712376",
     "status": "completed"
    },
    "tags": []
   },
   "source": [
    "**Printing the shape of all given files**"
   ]
  },
  {
   "cell_type": "code",
   "execution_count": 4,
   "id": "3a7db9bb",
   "metadata": {
    "execution": {
     "iopub.execute_input": "2021-08-29T13:56:47.816873Z",
     "iopub.status.busy": "2021-08-29T13:56:47.816036Z",
     "iopub.status.idle": "2021-08-29T13:56:47.820368Z",
     "shell.execute_reply": "2021-08-29T13:56:47.820898Z",
     "shell.execute_reply.started": "2021-08-29T13:28:03.216524Z"
    },
    "papermill": {
     "duration": 0.043959,
     "end_time": "2021-08-29T13:56:47.821107",
     "exception": false,
     "start_time": "2021-08-29T13:56:47.777148",
     "status": "completed"
    },
    "tags": []
   },
   "outputs": [
    {
     "name": "stdout",
     "output_type": "stream",
     "text": [
      "The shape of test set is: (11171, 2)\n",
      "\n",
      "The shape of train set is: (7381, 3)\n",
      "\n",
      "The shape of severity_type is: (18552, 2)\n",
      "\n",
      "The shape of resource_type is: (21076, 2)\n",
      "\n",
      "The shape of log_failure is: (58671, 3)\n",
      "\n",
      "The shape of event_type is: (31170, 2)\n"
     ]
    }
   ],
   "source": [
    "print('The shape of test set is: {}\\n'.format(test.shape))\n",
    "print('The shape of train set is: {}\\n'.format(train.shape))\n",
    "print('The shape of severity_type is: {}\\n'.format(severity_type.shape))\n",
    "print('The shape of resource_type is: {}\\n'.format(resource_type.shape))\n",
    "print('The shape of log_failure is: {}\\n'.format(log_failure.shape))\n",
    "print('The shape of event_type is: {}'.format(event_type.shape))"
   ]
  },
  {
   "cell_type": "markdown",
   "id": "5096a3a2",
   "metadata": {
    "papermill": {
     "duration": 0.032016,
     "end_time": "2021-08-29T13:56:47.887226",
     "exception": false,
     "start_time": "2021-08-29T13:56:47.855210",
     "status": "completed"
    },
    "tags": []
   },
   "source": [
    "**Checking the head of training file before merging it with other files**"
   ]
  },
  {
   "cell_type": "code",
   "execution_count": 5,
   "id": "83973580",
   "metadata": {
    "execution": {
     "iopub.execute_input": "2021-08-29T13:56:47.966806Z",
     "iopub.status.busy": "2021-08-29T13:56:47.965998Z",
     "iopub.status.idle": "2021-08-29T13:56:47.984713Z",
     "shell.execute_reply": "2021-08-29T13:56:47.984061Z",
     "shell.execute_reply.started": "2021-08-29T13:29:20.966630Z"
    },
    "papermill": {
     "duration": 0.064504,
     "end_time": "2021-08-29T13:56:47.984867",
     "exception": false,
     "start_time": "2021-08-29T13:56:47.920363",
     "status": "completed"
    },
    "tags": []
   },
   "outputs": [
    {
     "data": {
      "text/html": [
       "<div>\n",
       "<style scoped>\n",
       "    .dataframe tbody tr th:only-of-type {\n",
       "        vertical-align: middle;\n",
       "    }\n",
       "\n",
       "    .dataframe tbody tr th {\n",
       "        vertical-align: top;\n",
       "    }\n",
       "\n",
       "    .dataframe thead th {\n",
       "        text-align: right;\n",
       "    }\n",
       "</style>\n",
       "<table border=\"1\" class=\"dataframe\">\n",
       "  <thead>\n",
       "    <tr style=\"text-align: right;\">\n",
       "      <th></th>\n",
       "      <th>id</th>\n",
       "      <th>location</th>\n",
       "      <th>fault_severity</th>\n",
       "    </tr>\n",
       "  </thead>\n",
       "  <tbody>\n",
       "    <tr>\n",
       "      <th>0</th>\n",
       "      <td>14121</td>\n",
       "      <td>location 118</td>\n",
       "      <td>1</td>\n",
       "    </tr>\n",
       "    <tr>\n",
       "      <th>1</th>\n",
       "      <td>9320</td>\n",
       "      <td>location 91</td>\n",
       "      <td>0</td>\n",
       "    </tr>\n",
       "    <tr>\n",
       "      <th>2</th>\n",
       "      <td>14394</td>\n",
       "      <td>location 152</td>\n",
       "      <td>1</td>\n",
       "    </tr>\n",
       "    <tr>\n",
       "      <th>3</th>\n",
       "      <td>8218</td>\n",
       "      <td>location 931</td>\n",
       "      <td>1</td>\n",
       "    </tr>\n",
       "    <tr>\n",
       "      <th>4</th>\n",
       "      <td>14804</td>\n",
       "      <td>location 120</td>\n",
       "      <td>0</td>\n",
       "    </tr>\n",
       "  </tbody>\n",
       "</table>\n",
       "</div>"
      ],
      "text/plain": [
       "      id      location  fault_severity\n",
       "0  14121  location 118               1\n",
       "1   9320   location 91               0\n",
       "2  14394  location 152               1\n",
       "3   8218  location 931               1\n",
       "4  14804  location 120               0"
      ]
     },
     "execution_count": 5,
     "metadata": {},
     "output_type": "execute_result"
    }
   ],
   "source": [
    "train.head()"
   ]
  },
  {
   "cell_type": "markdown",
   "id": "80b8f2d4",
   "metadata": {
    "papermill": {
     "duration": 0.034077,
     "end_time": "2021-08-29T13:56:48.053400",
     "exception": false,
     "start_time": "2021-08-29T13:56:48.019323",
     "status": "completed"
    },
    "tags": []
   },
   "source": [
    "**Merging the data sets to have all the available info**"
   ]
  },
  {
   "cell_type": "code",
   "execution_count": 6,
   "id": "4e5064d5",
   "metadata": {
    "execution": {
     "iopub.execute_input": "2021-08-29T13:56:48.133914Z",
     "iopub.status.busy": "2021-08-29T13:56:48.132976Z",
     "iopub.status.idle": "2021-08-29T13:56:48.188290Z",
     "shell.execute_reply": "2021-08-29T13:56:48.188815Z",
     "shell.execute_reply.started": "2021-08-29T13:30:42.907013Z"
    },
    "papermill": {
     "duration": 0.101368,
     "end_time": "2021-08-29T13:56:48.189005",
     "exception": false,
     "start_time": "2021-08-29T13:56:48.087637",
     "status": "completed"
    },
    "tags": []
   },
   "outputs": [],
   "source": [
    "train_1 = train.merge(severity_type, how = 'left', left_on='id', right_on='id')\n",
    "train_2 = train_1.merge(resource_type, how = 'left', left_on='id', right_on='id')\n",
    "train_3 = train_2.merge(log_failure, how = 'left', left_on='id', right_on='id')\n",
    "train_4 = train_3.merge(event_type, how = 'left', left_on='id', right_on='id')"
   ]
  },
  {
   "cell_type": "markdown",
   "id": "006649a0",
   "metadata": {
    "papermill": {
     "duration": 0.032148,
     "end_time": "2021-08-29T13:56:48.253982",
     "exception": false,
     "start_time": "2021-08-29T13:56:48.221834",
     "status": "completed"
    },
    "tags": []
   },
   "source": [
    "**Checking the head after merging**"
   ]
  },
  {
   "cell_type": "code",
   "execution_count": 7,
   "id": "1d34880a",
   "metadata": {
    "execution": {
     "iopub.execute_input": "2021-08-29T13:56:48.334291Z",
     "iopub.status.busy": "2021-08-29T13:56:48.333270Z",
     "iopub.status.idle": "2021-08-29T13:56:48.338198Z",
     "shell.execute_reply": "2021-08-29T13:56:48.337644Z",
     "shell.execute_reply.started": "2021-08-29T13:32:04.242199Z"
    },
    "papermill": {
     "duration": 0.051631,
     "end_time": "2021-08-29T13:56:48.338340",
     "exception": false,
     "start_time": "2021-08-29T13:56:48.286709",
     "status": "completed"
    },
    "tags": []
   },
   "outputs": [
    {
     "data": {
      "text/html": [
       "<div>\n",
       "<style scoped>\n",
       "    .dataframe tbody tr th:only-of-type {\n",
       "        vertical-align: middle;\n",
       "    }\n",
       "\n",
       "    .dataframe tbody tr th {\n",
       "        vertical-align: top;\n",
       "    }\n",
       "\n",
       "    .dataframe thead th {\n",
       "        text-align: right;\n",
       "    }\n",
       "</style>\n",
       "<table border=\"1\" class=\"dataframe\">\n",
       "  <thead>\n",
       "    <tr style=\"text-align: right;\">\n",
       "      <th></th>\n",
       "      <th>id</th>\n",
       "      <th>location</th>\n",
       "      <th>fault_severity</th>\n",
       "      <th>severity_type</th>\n",
       "      <th>resource_type</th>\n",
       "      <th>log_feature</th>\n",
       "      <th>volume</th>\n",
       "      <th>event_type</th>\n",
       "    </tr>\n",
       "  </thead>\n",
       "  <tbody>\n",
       "    <tr>\n",
       "      <th>0</th>\n",
       "      <td>14121</td>\n",
       "      <td>location 118</td>\n",
       "      <td>1</td>\n",
       "      <td>severity_type 2</td>\n",
       "      <td>resource_type 2</td>\n",
       "      <td>feature 312</td>\n",
       "      <td>19</td>\n",
       "      <td>event_type 34</td>\n",
       "    </tr>\n",
       "    <tr>\n",
       "      <th>1</th>\n",
       "      <td>14121</td>\n",
       "      <td>location 118</td>\n",
       "      <td>1</td>\n",
       "      <td>severity_type 2</td>\n",
       "      <td>resource_type 2</td>\n",
       "      <td>feature 312</td>\n",
       "      <td>19</td>\n",
       "      <td>event_type 35</td>\n",
       "    </tr>\n",
       "    <tr>\n",
       "      <th>2</th>\n",
       "      <td>14121</td>\n",
       "      <td>location 118</td>\n",
       "      <td>1</td>\n",
       "      <td>severity_type 2</td>\n",
       "      <td>resource_type 2</td>\n",
       "      <td>feature 232</td>\n",
       "      <td>19</td>\n",
       "      <td>event_type 34</td>\n",
       "    </tr>\n",
       "    <tr>\n",
       "      <th>3</th>\n",
       "      <td>14121</td>\n",
       "      <td>location 118</td>\n",
       "      <td>1</td>\n",
       "      <td>severity_type 2</td>\n",
       "      <td>resource_type 2</td>\n",
       "      <td>feature 232</td>\n",
       "      <td>19</td>\n",
       "      <td>event_type 35</td>\n",
       "    </tr>\n",
       "    <tr>\n",
       "      <th>4</th>\n",
       "      <td>9320</td>\n",
       "      <td>location 91</td>\n",
       "      <td>0</td>\n",
       "      <td>severity_type 2</td>\n",
       "      <td>resource_type 2</td>\n",
       "      <td>feature 315</td>\n",
       "      <td>200</td>\n",
       "      <td>event_type 34</td>\n",
       "    </tr>\n",
       "  </tbody>\n",
       "</table>\n",
       "</div>"
      ],
      "text/plain": [
       "      id      location  fault_severity    severity_type    resource_type  \\\n",
       "0  14121  location 118               1  severity_type 2  resource_type 2   \n",
       "1  14121  location 118               1  severity_type 2  resource_type 2   \n",
       "2  14121  location 118               1  severity_type 2  resource_type 2   \n",
       "3  14121  location 118               1  severity_type 2  resource_type 2   \n",
       "4   9320   location 91               0  severity_type 2  resource_type 2   \n",
       "\n",
       "   log_feature  volume     event_type  \n",
       "0  feature 312      19  event_type 34  \n",
       "1  feature 312      19  event_type 35  \n",
       "2  feature 232      19  event_type 34  \n",
       "3  feature 232      19  event_type 35  \n",
       "4  feature 315     200  event_type 34  "
      ]
     },
     "execution_count": 7,
     "metadata": {},
     "output_type": "execute_result"
    }
   ],
   "source": [
    "train_4.head()"
   ]
  },
  {
   "cell_type": "markdown",
   "id": "55fd4f27",
   "metadata": {
    "papermill": {
     "duration": 0.033176,
     "end_time": "2021-08-29T13:56:48.405439",
     "exception": false,
     "start_time": "2021-08-29T13:56:48.372263",
     "status": "completed"
    },
    "tags": []
   },
   "source": [
    "**As we can see that there are some duplicates. So let's remove them all.**"
   ]
  },
  {
   "cell_type": "code",
   "execution_count": 8,
   "id": "c4760cf3",
   "metadata": {
    "execution": {
     "iopub.execute_input": "2021-08-29T13:56:48.478753Z",
     "iopub.status.busy": "2021-08-29T13:56:48.478008Z",
     "iopub.status.idle": "2021-08-29T13:56:48.508229Z",
     "shell.execute_reply": "2021-08-29T13:56:48.507540Z",
     "shell.execute_reply.started": "2021-08-29T13:34:13.482352Z"
    },
    "papermill": {
     "duration": 0.069087,
     "end_time": "2021-08-29T13:56:48.508382",
     "exception": false,
     "start_time": "2021-08-29T13:56:48.439295",
     "status": "completed"
    },
    "tags": []
   },
   "outputs": [
    {
     "data": {
      "text/html": [
       "<div>\n",
       "<style scoped>\n",
       "    .dataframe tbody tr th:only-of-type {\n",
       "        vertical-align: middle;\n",
       "    }\n",
       "\n",
       "    .dataframe tbody tr th {\n",
       "        vertical-align: top;\n",
       "    }\n",
       "\n",
       "    .dataframe thead th {\n",
       "        text-align: right;\n",
       "    }\n",
       "</style>\n",
       "<table border=\"1\" class=\"dataframe\">\n",
       "  <thead>\n",
       "    <tr style=\"text-align: right;\">\n",
       "      <th></th>\n",
       "      <th>id</th>\n",
       "      <th>location</th>\n",
       "      <th>fault_severity</th>\n",
       "      <th>severity_type</th>\n",
       "      <th>resource_type</th>\n",
       "      <th>log_feature</th>\n",
       "      <th>volume</th>\n",
       "      <th>event_type</th>\n",
       "    </tr>\n",
       "  </thead>\n",
       "  <tbody>\n",
       "    <tr>\n",
       "      <th>0</th>\n",
       "      <td>14121</td>\n",
       "      <td>location 118</td>\n",
       "      <td>1</td>\n",
       "      <td>severity_type 2</td>\n",
       "      <td>resource_type 2</td>\n",
       "      <td>feature 312</td>\n",
       "      <td>19</td>\n",
       "      <td>event_type 34</td>\n",
       "    </tr>\n",
       "    <tr>\n",
       "      <th>4</th>\n",
       "      <td>9320</td>\n",
       "      <td>location 91</td>\n",
       "      <td>0</td>\n",
       "      <td>severity_type 2</td>\n",
       "      <td>resource_type 2</td>\n",
       "      <td>feature 315</td>\n",
       "      <td>200</td>\n",
       "      <td>event_type 34</td>\n",
       "    </tr>\n",
       "    <tr>\n",
       "      <th>8</th>\n",
       "      <td>14394</td>\n",
       "      <td>location 152</td>\n",
       "      <td>1</td>\n",
       "      <td>severity_type 2</td>\n",
       "      <td>resource_type 2</td>\n",
       "      <td>feature 221</td>\n",
       "      <td>1</td>\n",
       "      <td>event_type 35</td>\n",
       "    </tr>\n",
       "    <tr>\n",
       "      <th>12</th>\n",
       "      <td>8218</td>\n",
       "      <td>location 931</td>\n",
       "      <td>1</td>\n",
       "      <td>severity_type 1</td>\n",
       "      <td>resource_type 8</td>\n",
       "      <td>feature 80</td>\n",
       "      <td>9</td>\n",
       "      <td>event_type 15</td>\n",
       "    </tr>\n",
       "    <tr>\n",
       "      <th>18</th>\n",
       "      <td>14804</td>\n",
       "      <td>location 120</td>\n",
       "      <td>0</td>\n",
       "      <td>severity_type 1</td>\n",
       "      <td>resource_type 2</td>\n",
       "      <td>feature 134</td>\n",
       "      <td>1</td>\n",
       "      <td>event_type 34</td>\n",
       "    </tr>\n",
       "  </tbody>\n",
       "</table>\n",
       "</div>"
      ],
      "text/plain": [
       "       id      location  fault_severity    severity_type    resource_type  \\\n",
       "0   14121  location 118               1  severity_type 2  resource_type 2   \n",
       "4    9320   location 91               0  severity_type 2  resource_type 2   \n",
       "8   14394  location 152               1  severity_type 2  resource_type 2   \n",
       "12   8218  location 931               1  severity_type 1  resource_type 8   \n",
       "18  14804  location 120               0  severity_type 1  resource_type 2   \n",
       "\n",
       "    log_feature  volume     event_type  \n",
       "0   feature 312      19  event_type 34  \n",
       "4   feature 315     200  event_type 34  \n",
       "8   feature 221       1  event_type 35  \n",
       "12   feature 80       9  event_type 15  \n",
       "18  feature 134       1  event_type 34  "
      ]
     },
     "execution_count": 8,
     "metadata": {},
     "output_type": "execute_result"
    }
   ],
   "source": [
    "train_4.drop_duplicates(subset= 'id', keep= 'first', inplace = True)\n",
    "train_4.head()"
   ]
  },
  {
   "cell_type": "markdown",
   "id": "07ed6454",
   "metadata": {
    "papermill": {
     "duration": 0.03343,
     "end_time": "2021-08-29T13:56:48.575614",
     "exception": false,
     "start_time": "2021-08-29T13:56:48.542184",
     "status": "completed"
    },
    "tags": []
   },
   "source": [
    "# Exploratory Data Analysis (EDA)"
   ]
  },
  {
   "cell_type": "markdown",
   "id": "9cdfac0c",
   "metadata": {
    "papermill": {
     "duration": 0.033267,
     "end_time": "2021-08-29T13:56:48.642417",
     "exception": false,
     "start_time": "2021-08-29T13:56:48.609150",
     "status": "completed"
    },
    "tags": []
   },
   "source": [
    "**Count plot for fault severity**"
   ]
  },
  {
   "cell_type": "code",
   "execution_count": 9,
   "id": "3680b7c1",
   "metadata": {
    "execution": {
     "iopub.execute_input": "2021-08-29T13:56:48.716641Z",
     "iopub.status.busy": "2021-08-29T13:56:48.715938Z",
     "iopub.status.idle": "2021-08-29T13:56:48.892319Z",
     "shell.execute_reply": "2021-08-29T13:56:48.891696Z",
     "shell.execute_reply.started": "2021-08-29T13:35:49.197622Z"
    },
    "papermill": {
     "duration": 0.216083,
     "end_time": "2021-08-29T13:56:48.892460",
     "exception": false,
     "start_time": "2021-08-29T13:56:48.676377",
     "status": "completed"
    },
    "tags": []
   },
   "outputs": [
    {
     "data": {
      "image/png": "[encoded data removed]",
      "text/plain": [
       "<Figure size 576x432 with 1 Axes>"
      ]
     },
     "metadata": {
      "needs_background": "light"
     },
     "output_type": "display_data"
    }
   ],
   "source": [
    "plt.figure(figsize = (8,6))\n",
    "sns.countplot(train_4['fault_severity'])\n",
    "plt.show()"
   ]
  },
  {
   "cell_type": "markdown",
   "id": "5a57d3fa",
   "metadata": {
    "papermill": {
     "duration": 0.03419,
     "end_time": "2021-08-29T13:56:48.961290",
     "exception": false,
     "start_time": "2021-08-29T13:56:48.927100",
     "status": "completed"
    },
    "tags": []
   },
   "source": [
    "Not very balanced data set as values with fault_severity ‘zero’ (indicating no fault) are very high as compared with others. So ML models might be biased towards fault severity value of ‘zero’."
   ]
  },
  {
   "cell_type": "markdown",
   "id": "797a6a38",
   "metadata": {
    "papermill": {
     "duration": 0.035676,
     "end_time": "2021-08-29T13:56:49.031844",
     "exception": false,
     "start_time": "2021-08-29T13:56:48.996168",
     "status": "completed"
    },
    "tags": []
   },
   "source": [
    "**Count plot for severity type**"
   ]
  },
  {
   "cell_type": "code",
   "execution_count": 10,
   "id": "771c739c",
   "metadata": {
    "execution": {
     "iopub.execute_input": "2021-08-29T13:56:49.121113Z",
     "iopub.status.busy": "2021-08-29T13:56:49.120391Z",
     "iopub.status.idle": "2021-08-29T13:56:49.293737Z",
     "shell.execute_reply": "2021-08-29T13:56:49.293039Z",
     "shell.execute_reply.started": "2021-08-29T13:37:22.407028Z"
    },
    "papermill": {
     "duration": 0.227162,
     "end_time": "2021-08-29T13:56:49.293886",
     "exception": false,
     "start_time": "2021-08-29T13:56:49.066724",
     "status": "completed"
    },
    "tags": []
   },
   "outputs": [
    {
     "data": {
      "image/png": "[encoded data removed]",
      "text/plain": [
       "<Figure size 576x432 with 1 Axes>"
      ]
     },
     "metadata": {
      "needs_background": "light"
     },
     "output_type": "display_data"
    }
   ],
   "source": [
    "plt.figure(figsize = (8,6))\n",
    "sns.countplot(train_4['severity_type'])\n",
    "plt.show()"
   ]
  },
  {
   "cell_type": "markdown",
   "id": "30ebe86a",
   "metadata": {
    "papermill": {
     "duration": 0.035765,
     "end_time": "2021-08-29T13:56:49.365232",
     "exception": false,
     "start_time": "2021-08-29T13:56:49.329467",
     "status": "completed"
    },
    "tags": []
   },
   "source": [
    "Severity_type_1 and 2 are very high as compared with others."
   ]
  },
  {
   "cell_type": "markdown",
   "id": "8beecc22",
   "metadata": {
    "papermill": {
     "duration": 0.036029,
     "end_time": "2021-08-29T13:56:49.437375",
     "exception": false,
     "start_time": "2021-08-29T13:56:49.401346",
     "status": "completed"
    },
    "tags": []
   },
   "source": [
    "**Count plot for resource type**"
   ]
  },
  {
   "cell_type": "code",
   "execution_count": 11,
   "id": "f6a70934",
   "metadata": {
    "execution": {
     "iopub.execute_input": "2021-08-29T13:56:49.513862Z",
     "iopub.status.busy": "2021-08-29T13:56:49.513121Z",
     "iopub.status.idle": "2021-08-29T13:56:49.806627Z",
     "shell.execute_reply": "2021-08-29T13:56:49.806080Z",
     "shell.execute_reply.started": "2021-08-29T13:39:31.192278Z"
    },
    "papermill": {
     "duration": 0.333483,
     "end_time": "2021-08-29T13:56:49.806779",
     "exception": false,
     "start_time": "2021-08-29T13:56:49.473296",
     "status": "completed"
    },
    "tags": []
   },
   "outputs": [
    {
     "data": {
      "image/png": "[encoded data removed]",
      "text/plain": [
       "<Figure size 1008x432 with 1 Axes>"
      ]
     },
     "metadata": {
      "needs_background": "light"
     },
     "output_type": "display_data"
    }
   ],
   "source": [
    "plt.figure(figsize = (14,6))\n",
    "sns.countplot(train_4['resource_type'])\n",
    "plt.tight_layout()\n",
    "plt.show()"
   ]
  },
  {
   "cell_type": "markdown",
   "id": "41cfa3a7",
   "metadata": {
    "papermill": {
     "duration": 0.036017,
     "end_time": "2021-08-29T13:56:49.880030",
     "exception": false,
     "start_time": "2021-08-29T13:56:49.844013",
     "status": "completed"
    },
    "tags": []
   },
   "source": [
    "Most of the resource types are either type_2 or type_8."
   ]
  },
  {
   "cell_type": "markdown",
   "id": "4841a576",
   "metadata": {
    "papermill": {
     "duration": 0.0361,
     "end_time": "2021-08-29T13:56:49.952497",
     "exception": false,
     "start_time": "2021-08-29T13:56:49.916397",
     "status": "completed"
    },
    "tags": []
   },
   "source": [
    "# CatBoost"
   ]
  },
  {
   "cell_type": "markdown",
   "id": "6f1d83cd",
   "metadata": {
    "papermill": {
     "duration": 0.036967,
     "end_time": "2021-08-29T13:56:50.027286",
     "exception": false,
     "start_time": "2021-08-29T13:56:49.990319",
     "status": "completed"
    },
    "tags": []
   },
   "source": [
    "Catboost is an opensource machine learning algorithm from Yandex (Russian search engine like Google). It can work with wide range of data types and can help solve various problems. The catboost algo does not need extensive training (computing efficiency)  and can better handle categorical features."
   ]
  },
  {
   "cell_type": "code",
   "execution_count": 12,
   "id": "3cdefa44",
   "metadata": {
    "execution": {
     "iopub.execute_input": "2021-08-29T13:56:50.106887Z",
     "iopub.status.busy": "2021-08-29T13:56:50.105979Z",
     "iopub.status.idle": "2021-08-29T13:56:50.515806Z",
     "shell.execute_reply": "2021-08-29T13:56:50.515092Z",
     "shell.execute_reply.started": "2021-08-29T13:42:20.844242Z"
    },
    "papermill": {
     "duration": 0.451194,
     "end_time": "2021-08-29T13:56:50.515980",
     "exception": false,
     "start_time": "2021-08-29T13:56:50.064786",
     "status": "completed"
    },
    "tags": []
   },
   "outputs": [],
   "source": [
    "from catboost import CatBoostClassifier, Pool\n",
    "from sklearn.model_selection import train_test_split"
   ]
  },
  {
   "cell_type": "code",
   "execution_count": 13,
   "id": "1da6a6a3",
   "metadata": {
    "execution": {
     "iopub.execute_input": "2021-08-29T13:56:50.597452Z",
     "iopub.status.busy": "2021-08-29T13:56:50.596747Z",
     "iopub.status.idle": "2021-08-29T13:56:50.600201Z",
     "shell.execute_reply": "2021-08-29T13:56:50.599492Z",
     "shell.execute_reply.started": "2021-08-29T13:42:35.498506Z"
    },
    "papermill": {
     "duration": 0.046767,
     "end_time": "2021-08-29T13:56:50.600353",
     "exception": false,
     "start_time": "2021-08-29T13:56:50.553586",
     "status": "completed"
    },
    "tags": []
   },
   "outputs": [],
   "source": [
    "X = train_4[['id', 'location', 'severity_type', 'resource_type',\n",
    "       'log_feature', 'volume', 'event_type']]\n",
    "y = train_4.fault_severity"
   ]
  },
  {
   "cell_type": "code",
   "execution_count": 14,
   "id": "178b0007",
   "metadata": {
    "execution": {
     "iopub.execute_input": "2021-08-29T13:56:50.679760Z",
     "iopub.status.busy": "2021-08-29T13:56:50.678948Z",
     "iopub.status.idle": "2021-08-29T13:56:50.685230Z",
     "shell.execute_reply": "2021-08-29T13:56:50.684546Z",
     "shell.execute_reply.started": "2021-08-29T13:43:07.987708Z"
    },
    "papermill": {
     "duration": 0.048649,
     "end_time": "2021-08-29T13:56:50.685373",
     "exception": false,
     "start_time": "2021-08-29T13:56:50.636724",
     "status": "completed"
    },
    "tags": []
   },
   "outputs": [],
   "source": [
    "X_train, X_validation, y_train, y_validation = train_test_split(X, y, test_size=0.20, random_state=101)"
   ]
  },
  {
   "cell_type": "code",
   "execution_count": 15,
   "id": "4b1149c0",
   "metadata": {
    "execution": {
     "iopub.execute_input": "2021-08-29T13:56:50.767257Z",
     "iopub.status.busy": "2021-08-29T13:56:50.766459Z",
     "iopub.status.idle": "2021-08-29T13:56:50.770221Z",
     "shell.execute_reply": "2021-08-29T13:56:50.769617Z",
     "shell.execute_reply.started": "2021-08-29T13:43:55.538456Z"
    },
    "papermill": {
     "duration": 0.048247,
     "end_time": "2021-08-29T13:56:50.770364",
     "exception": false,
     "start_time": "2021-08-29T13:56:50.722117",
     "status": "completed"
    },
    "tags": []
   },
   "outputs": [],
   "source": [
    "categorical_features_indices = np.where(X_train.dtypes == object)[0]"
   ]
  },
  {
   "cell_type": "code",
   "execution_count": 16,
   "id": "edd7238e",
   "metadata": {
    "execution": {
     "iopub.execute_input": "2021-08-29T13:56:50.874339Z",
     "iopub.status.busy": "2021-08-29T13:56:50.873628Z",
     "iopub.status.idle": "2021-08-29T13:56:50.876910Z",
     "shell.execute_reply": "2021-08-29T13:56:50.876200Z",
     "shell.execute_reply.started": "2021-08-29T13:44:19.408182Z"
    },
    "papermill": {
     "duration": 0.068121,
     "end_time": "2021-08-29T13:56:50.877062",
     "exception": false,
     "start_time": "2021-08-29T13:56:50.808941",
     "status": "completed"
    },
    "tags": []
   },
   "outputs": [],
   "source": [
    "train_dataset = Pool(data=X_train,\n",
    "                     label=y_train,\n",
    "                     cat_features=categorical_features_indices)\n",
    "\n",
    "eval_dataset = Pool(data=X_validation,\n",
    "                    label=y_validation,\n",
    "                    cat_features=categorical_features_indices)"
   ]
  },
  {
   "cell_type": "code",
   "execution_count": 17,
   "id": "c8013f35",
   "metadata": {
    "execution": {
     "iopub.execute_input": "2021-08-29T13:56:50.960998Z",
     "iopub.status.busy": "2021-08-29T13:56:50.960127Z",
     "iopub.status.idle": "2021-08-29T13:56:50.963212Z",
     "shell.execute_reply": "2021-08-29T13:56:50.962711Z",
     "shell.execute_reply.started": "2021-08-29T13:44:42.727797Z"
    },
    "papermill": {
     "duration": 0.048962,
     "end_time": "2021-08-29T13:56:50.963374",
     "exception": false,
     "start_time": "2021-08-29T13:56:50.914412",
     "status": "completed"
    },
    "tags": []
   },
   "outputs": [],
   "source": [
    "model = CatBoostClassifier(iterations=1000,\n",
    "                           learning_rate=1,\n",
    "                           depth=2,\n",
    "                           loss_function='MultiClass',\n",
    "                           random_seed=1,\n",
    "                           bagging_temperature=22,\n",
    "                           od_type='Iter',\n",
    "                           metric_period=100,\n",
    "                           od_wait=100)"
   ]
  },
  {
   "cell_type": "code",
   "execution_count": 18,
   "id": "1a8088b1",
   "metadata": {
    "execution": {
     "iopub.execute_input": "2021-08-29T13:56:51.055825Z",
     "iopub.status.busy": "2021-08-29T13:56:51.054666Z",
     "iopub.status.idle": "2021-08-29T13:56:52.889629Z",
     "shell.execute_reply": "2021-08-29T13:56:52.890163Z",
     "shell.execute_reply.started": "2021-08-29T13:45:02.273297Z"
    },
    "papermill": {
     "duration": 1.888216,
     "end_time": "2021-08-29T13:56:52.890352",
     "exception": false,
     "start_time": "2021-08-29T13:56:51.002136",
     "status": "completed"
    },
    "tags": []
   },
   "outputs": [
    {
     "data": {
      "application/vnd.jupyter.widget-view+json": {
       "model_id": "23bc5eced5d848c9932869e945383b00",
       "version_major": 2,
       "version_minor": 0
      },
      "text/plain": [
       "MetricVisualizer(layout=Layout(align_self='stretch', height='500px'))"
      ]
     },
     "metadata": {},
     "output_type": "display_data"
    },
    {
     "name": "stderr",
     "output_type": "stream",
     "text": [
      "Warning: Overfitting detector is active, thus evaluation metric is calculated on every iteration. 'metric_period' is ignored for evaluation metric.\n"
     ]
    },
    {
     "name": "stdout",
     "output_type": "stream",
     "text": [
      "0:\tlearn: 0.8097318\ttest: 0.8037832\tbest: 0.8037832 (0)\ttotal: 58.1ms\tremaining: 58s\n",
      "100:\tlearn: 0.6558387\ttest: 0.6635586\tbest: 0.6635003 (98)\ttotal: 581ms\tremaining: 5.17s\n",
      "200:\tlearn: 0.6334645\ttest: 0.6597332\tbest: 0.6573367 (180)\ttotal: 1.09s\tremaining: 4.33s\n",
      "300:\tlearn: 0.6185366\ttest: 0.6560338\tbest: 0.6524754 (227)\ttotal: 1.59s\tremaining: 3.7s\n",
      "Stopped by overfitting detector  (100 iterations wait)\n",
      "\n",
      "bestTest = 0.6524753949\n",
      "bestIteration = 227\n",
      "\n",
      "Shrink model to first 228 iterations.\n"
     ]
    },
    {
     "data": {
      "text/plain": [
       "<catboost.core.CatBoostClassifier at 0x7fefabcef810>"
      ]
     },
     "execution_count": 18,
     "metadata": {},
     "output_type": "execute_result"
    }
   ],
   "source": [
    "model.fit(train_dataset, eval_set= eval_dataset, plot= True)"
   ]
  },
  {
   "cell_type": "markdown",
   "id": "facebbe0",
   "metadata": {
    "papermill": {
     "duration": 0.038811,
     "end_time": "2021-08-29T13:56:52.967985",
     "exception": false,
     "start_time": "2021-08-29T13:56:52.929174",
     "status": "completed"
    },
    "tags": []
   },
   "source": [
    "**As the model was getting overfit  after initial iterations so it was stopped by overfitting detector in Catboost.**"
   ]
  },
  {
   "cell_type": "code",
   "execution_count": 19,
   "id": "0ecc9804",
   "metadata": {
    "execution": {
     "iopub.execute_input": "2021-08-29T13:56:53.052954Z",
     "iopub.status.busy": "2021-08-29T13:56:53.052214Z",
     "iopub.status.idle": "2021-08-29T13:56:53.063280Z",
     "shell.execute_reply": "2021-08-29T13:56:53.062633Z",
     "shell.execute_reply.started": "2021-08-29T13:46:33.848244Z"
    },
    "papermill": {
     "duration": 0.054766,
     "end_time": "2021-08-29T13:56:53.063432",
     "exception": false,
     "start_time": "2021-08-29T13:56:53.008666",
     "status": "completed"
    },
    "tags": []
   },
   "outputs": [],
   "source": [
    "# Get predicted classes\n",
    "preds_class = model.predict(eval_dataset)\n",
    "\n",
    "# Get predicted probabilities for each class\n",
    "preds_proba = model.predict_proba(eval_dataset)"
   ]
  },
  {
   "cell_type": "markdown",
   "id": "bcce5295",
   "metadata": {
    "papermill": {
     "duration": 0.038379,
     "end_time": "2021-08-29T13:56:53.140716",
     "exception": false,
     "start_time": "2021-08-29T13:56:53.102337",
     "status": "completed"
    },
    "tags": []
   },
   "source": [
    "# Getting the test set ready to feed into the model"
   ]
  },
  {
   "cell_type": "code",
   "execution_count": 20,
   "id": "8bd7a526",
   "metadata": {
    "execution": {
     "iopub.execute_input": "2021-08-29T13:56:53.229794Z",
     "iopub.status.busy": "2021-08-29T13:56:53.228816Z",
     "iopub.status.idle": "2021-08-29T13:56:53.233214Z",
     "shell.execute_reply": "2021-08-29T13:56:53.232695Z",
     "shell.execute_reply.started": "2021-08-29T13:47:39.543574Z"
    },
    "papermill": {
     "duration": 0.052502,
     "end_time": "2021-08-29T13:56:53.233353",
     "exception": false,
     "start_time": "2021-08-29T13:56:53.180851",
     "status": "completed"
    },
    "tags": []
   },
   "outputs": [
    {
     "data": {
      "text/html": [
       "<div>\n",
       "<style scoped>\n",
       "    .dataframe tbody tr th:only-of-type {\n",
       "        vertical-align: middle;\n",
       "    }\n",
       "\n",
       "    .dataframe tbody tr th {\n",
       "        vertical-align: top;\n",
       "    }\n",
       "\n",
       "    .dataframe thead th {\n",
       "        text-align: right;\n",
       "    }\n",
       "</style>\n",
       "<table border=\"1\" class=\"dataframe\">\n",
       "  <thead>\n",
       "    <tr style=\"text-align: right;\">\n",
       "      <th></th>\n",
       "      <th>id</th>\n",
       "      <th>location</th>\n",
       "    </tr>\n",
       "  </thead>\n",
       "  <tbody>\n",
       "    <tr>\n",
       "      <th>0</th>\n",
       "      <td>11066</td>\n",
       "      <td>location 481</td>\n",
       "    </tr>\n",
       "    <tr>\n",
       "      <th>1</th>\n",
       "      <td>18000</td>\n",
       "      <td>location 962</td>\n",
       "    </tr>\n",
       "    <tr>\n",
       "      <th>2</th>\n",
       "      <td>16964</td>\n",
       "      <td>location 491</td>\n",
       "    </tr>\n",
       "    <tr>\n",
       "      <th>3</th>\n",
       "      <td>4795</td>\n",
       "      <td>location 532</td>\n",
       "    </tr>\n",
       "    <tr>\n",
       "      <th>4</th>\n",
       "      <td>3392</td>\n",
       "      <td>location 600</td>\n",
       "    </tr>\n",
       "  </tbody>\n",
       "</table>\n",
       "</div>"
      ],
      "text/plain": [
       "      id      location\n",
       "0  11066  location 481\n",
       "1  18000  location 962\n",
       "2  16964  location 491\n",
       "3   4795  location 532\n",
       "4   3392  location 600"
      ]
     },
     "execution_count": 20,
     "metadata": {},
     "output_type": "execute_result"
    }
   ],
   "source": [
    "test.head()"
   ]
  },
  {
   "cell_type": "code",
   "execution_count": 21,
   "id": "773bf3fb",
   "metadata": {
    "execution": {
     "iopub.execute_input": "2021-08-29T13:56:53.319310Z",
     "iopub.status.busy": "2021-08-29T13:56:53.318568Z",
     "iopub.status.idle": "2021-08-29T13:56:53.376569Z",
     "shell.execute_reply": "2021-08-29T13:56:53.375984Z",
     "shell.execute_reply.started": "2021-08-29T13:47:47.017368Z"
    },
    "papermill": {
     "duration": 0.10471,
     "end_time": "2021-08-29T13:56:53.376714",
     "exception": false,
     "start_time": "2021-08-29T13:56:53.272004",
     "status": "completed"
    },
    "tags": []
   },
   "outputs": [],
   "source": [
    "test_1 = test.merge(severity_type, how = 'left', left_on='id', right_on='id')\n",
    "test_2 = test_1.merge(resource_type, how = 'left', left_on='id', right_on='id')\n",
    "test_3 = test_2.merge(log_failure, how = 'left', left_on='id', right_on='id')\n",
    "test_4 = test_3.merge(event_type, how = 'left', left_on='id', right_on='id')"
   ]
  },
  {
   "cell_type": "code",
   "execution_count": 22,
   "id": "960efb2b",
   "metadata": {
    "execution": {
     "iopub.execute_input": "2021-08-29T13:56:53.468886Z",
     "iopub.status.busy": "2021-08-29T13:56:53.468117Z",
     "iopub.status.idle": "2021-08-29T13:56:53.476951Z",
     "shell.execute_reply": "2021-08-29T13:56:53.475865Z",
     "shell.execute_reply.started": "2021-08-29T13:48:01.023029Z"
    },
    "papermill": {
     "duration": 0.060795,
     "end_time": "2021-08-29T13:56:53.477109",
     "exception": false,
     "start_time": "2021-08-29T13:56:53.416314",
     "status": "completed"
    },
    "tags": []
   },
   "outputs": [
    {
     "data": {
      "text/html": [
       "<div>\n",
       "<style scoped>\n",
       "    .dataframe tbody tr th:only-of-type {\n",
       "        vertical-align: middle;\n",
       "    }\n",
       "\n",
       "    .dataframe tbody tr th {\n",
       "        vertical-align: top;\n",
       "    }\n",
       "\n",
       "    .dataframe thead th {\n",
       "        text-align: right;\n",
       "    }\n",
       "</style>\n",
       "<table border=\"1\" class=\"dataframe\">\n",
       "  <thead>\n",
       "    <tr style=\"text-align: right;\">\n",
       "      <th></th>\n",
       "      <th>id</th>\n",
       "      <th>location</th>\n",
       "      <th>severity_type</th>\n",
       "      <th>resource_type</th>\n",
       "      <th>log_feature</th>\n",
       "      <th>volume</th>\n",
       "      <th>event_type</th>\n",
       "    </tr>\n",
       "  </thead>\n",
       "  <tbody>\n",
       "    <tr>\n",
       "      <th>0</th>\n",
       "      <td>11066</td>\n",
       "      <td>location 481</td>\n",
       "      <td>severity_type 2</td>\n",
       "      <td>resource_type 2</td>\n",
       "      <td>feature 230</td>\n",
       "      <td>24</td>\n",
       "      <td>event_type 35</td>\n",
       "    </tr>\n",
       "    <tr>\n",
       "      <th>1</th>\n",
       "      <td>11066</td>\n",
       "      <td>location 481</td>\n",
       "      <td>severity_type 2</td>\n",
       "      <td>resource_type 2</td>\n",
       "      <td>feature 230</td>\n",
       "      <td>24</td>\n",
       "      <td>event_type 34</td>\n",
       "    </tr>\n",
       "    <tr>\n",
       "      <th>2</th>\n",
       "      <td>11066</td>\n",
       "      <td>location 481</td>\n",
       "      <td>severity_type 2</td>\n",
       "      <td>resource_type 2</td>\n",
       "      <td>feature 310</td>\n",
       "      <td>28</td>\n",
       "      <td>event_type 35</td>\n",
       "    </tr>\n",
       "    <tr>\n",
       "      <th>3</th>\n",
       "      <td>11066</td>\n",
       "      <td>location 481</td>\n",
       "      <td>severity_type 2</td>\n",
       "      <td>resource_type 2</td>\n",
       "      <td>feature 310</td>\n",
       "      <td>28</td>\n",
       "      <td>event_type 34</td>\n",
       "    </tr>\n",
       "    <tr>\n",
       "      <th>4</th>\n",
       "      <td>11066</td>\n",
       "      <td>location 481</td>\n",
       "      <td>severity_type 2</td>\n",
       "      <td>resource_type 2</td>\n",
       "      <td>feature 228</td>\n",
       "      <td>20</td>\n",
       "      <td>event_type 35</td>\n",
       "    </tr>\n",
       "  </tbody>\n",
       "</table>\n",
       "</div>"
      ],
      "text/plain": [
       "      id      location    severity_type    resource_type  log_feature  volume  \\\n",
       "0  11066  location 481  severity_type 2  resource_type 2  feature 230      24   \n",
       "1  11066  location 481  severity_type 2  resource_type 2  feature 230      24   \n",
       "2  11066  location 481  severity_type 2  resource_type 2  feature 310      28   \n",
       "3  11066  location 481  severity_type 2  resource_type 2  feature 310      28   \n",
       "4  11066  location 481  severity_type 2  resource_type 2  feature 228      20   \n",
       "\n",
       "      event_type  \n",
       "0  event_type 35  \n",
       "1  event_type 34  \n",
       "2  event_type 35  \n",
       "3  event_type 34  \n",
       "4  event_type 35  "
      ]
     },
     "execution_count": 22,
     "metadata": {},
     "output_type": "execute_result"
    }
   ],
   "source": [
    "test_4.head()"
   ]
  },
  {
   "cell_type": "markdown",
   "id": "bd279cbc",
   "metadata": {
    "papermill": {
     "duration": 0.039247,
     "end_time": "2021-08-29T13:56:53.559150",
     "exception": false,
     "start_time": "2021-08-29T13:56:53.519903",
     "status": "completed"
    },
    "tags": []
   },
   "source": [
    "**Remove duplicate values**"
   ]
  },
  {
   "cell_type": "code",
   "execution_count": 23,
   "id": "ea16969d",
   "metadata": {
    "execution": {
     "iopub.execute_input": "2021-08-29T13:56:53.644359Z",
     "iopub.status.busy": "2021-08-29T13:56:53.641156Z",
     "iopub.status.idle": "2021-08-29T13:56:53.680733Z",
     "shell.execute_reply": "2021-08-29T13:56:53.680004Z",
     "shell.execute_reply.started": "2021-08-29T13:49:04.112940Z"
    },
    "papermill": {
     "duration": 0.082614,
     "end_time": "2021-08-29T13:56:53.680887",
     "exception": false,
     "start_time": "2021-08-29T13:56:53.598273",
     "status": "completed"
    },
    "tags": []
   },
   "outputs": [
    {
     "data": {
      "text/html": [
       "<div>\n",
       "<style scoped>\n",
       "    .dataframe tbody tr th:only-of-type {\n",
       "        vertical-align: middle;\n",
       "    }\n",
       "\n",
       "    .dataframe tbody tr th {\n",
       "        vertical-align: top;\n",
       "    }\n",
       "\n",
       "    .dataframe thead th {\n",
       "        text-align: right;\n",
       "    }\n",
       "</style>\n",
       "<table border=\"1\" class=\"dataframe\">\n",
       "  <thead>\n",
       "    <tr style=\"text-align: right;\">\n",
       "      <th></th>\n",
       "      <th>id</th>\n",
       "      <th>location</th>\n",
       "      <th>severity_type</th>\n",
       "      <th>resource_type</th>\n",
       "      <th>log_feature</th>\n",
       "      <th>volume</th>\n",
       "      <th>event_type</th>\n",
       "    </tr>\n",
       "  </thead>\n",
       "  <tbody>\n",
       "    <tr>\n",
       "      <th>0</th>\n",
       "      <td>11066</td>\n",
       "      <td>location 481</td>\n",
       "      <td>severity_type 2</td>\n",
       "      <td>resource_type 2</td>\n",
       "      <td>feature 230</td>\n",
       "      <td>24</td>\n",
       "      <td>event_type 35</td>\n",
       "    </tr>\n",
       "    <tr>\n",
       "      <th>8</th>\n",
       "      <td>18000</td>\n",
       "      <td>location 962</td>\n",
       "      <td>severity_type 1</td>\n",
       "      <td>resource_type 8</td>\n",
       "      <td>feature 203</td>\n",
       "      <td>9</td>\n",
       "      <td>event_type 11</td>\n",
       "    </tr>\n",
       "    <tr>\n",
       "      <th>12</th>\n",
       "      <td>16964</td>\n",
       "      <td>location 491</td>\n",
       "      <td>severity_type 2</td>\n",
       "      <td>resource_type 2</td>\n",
       "      <td>feature 235</td>\n",
       "      <td>10</td>\n",
       "      <td>event_type 35</td>\n",
       "    </tr>\n",
       "    <tr>\n",
       "      <th>16</th>\n",
       "      <td>4795</td>\n",
       "      <td>location 532</td>\n",
       "      <td>severity_type 5</td>\n",
       "      <td>resource_type 3</td>\n",
       "      <td>feature 240</td>\n",
       "      <td>1</td>\n",
       "      <td>event_type 27</td>\n",
       "    </tr>\n",
       "    <tr>\n",
       "      <th>28</th>\n",
       "      <td>3392</td>\n",
       "      <td>location 600</td>\n",
       "      <td>severity_type 2</td>\n",
       "      <td>resource_type 8</td>\n",
       "      <td>feature 82</td>\n",
       "      <td>6</td>\n",
       "      <td>event_type 15</td>\n",
       "    </tr>\n",
       "  </tbody>\n",
       "</table>\n",
       "</div>"
      ],
      "text/plain": [
       "       id      location    severity_type    resource_type  log_feature  \\\n",
       "0   11066  location 481  severity_type 2  resource_type 2  feature 230   \n",
       "8   18000  location 962  severity_type 1  resource_type 8  feature 203   \n",
       "12  16964  location 491  severity_type 2  resource_type 2  feature 235   \n",
       "16   4795  location 532  severity_type 5  resource_type 3  feature 240   \n",
       "28   3392  location 600  severity_type 2  resource_type 8   feature 82   \n",
       "\n",
       "    volume     event_type  \n",
       "0       24  event_type 35  \n",
       "8        9  event_type 11  \n",
       "12      10  event_type 35  \n",
       "16       1  event_type 27  \n",
       "28       6  event_type 15  "
      ]
     },
     "execution_count": 23,
     "metadata": {},
     "output_type": "execute_result"
    }
   ],
   "source": [
    "test_4.drop_duplicates(subset= 'id', keep= 'first', inplace = True)\n",
    "test_4.head()"
   ]
  },
  {
   "cell_type": "code",
   "execution_count": 24,
   "id": "282d8c89",
   "metadata": {
    "execution": {
     "iopub.execute_input": "2021-08-29T13:56:53.777393Z",
     "iopub.status.busy": "2021-08-29T13:56:53.774575Z",
     "iopub.status.idle": "2021-08-29T13:56:53.783915Z",
     "shell.execute_reply": "2021-08-29T13:56:53.783201Z",
     "shell.execute_reply.started": "2021-08-29T13:49:28.138430Z"
    },
    "papermill": {
     "duration": 0.061322,
     "end_time": "2021-08-29T13:56:53.784064",
     "exception": false,
     "start_time": "2021-08-29T13:56:53.722742",
     "status": "completed"
    },
    "tags": []
   },
   "outputs": [
    {
     "data": {
      "text/plain": [
       "id               0\n",
       "location         0\n",
       "severity_type    0\n",
       "resource_type    0\n",
       "log_feature      0\n",
       "volume           0\n",
       "event_type       0\n",
       "dtype: int64"
      ]
     },
     "execution_count": 24,
     "metadata": {},
     "output_type": "execute_result"
    }
   ],
   "source": [
    "test_4.isnull().sum()"
   ]
  },
  {
   "cell_type": "markdown",
   "id": "040fb684",
   "metadata": {
    "papermill": {
     "duration": 0.041133,
     "end_time": "2021-08-29T13:56:53.867168",
     "exception": false,
     "start_time": "2021-08-29T13:56:53.826035",
     "status": "completed"
    },
    "tags": []
   },
   "source": [
    "# Making predictions on test set"
   ]
  },
  {
   "cell_type": "code",
   "execution_count": 25,
   "id": "9b005937",
   "metadata": {
    "execution": {
     "iopub.execute_input": "2021-08-29T13:56:53.962185Z",
     "iopub.status.busy": "2021-08-29T13:56:53.961467Z",
     "iopub.status.idle": "2021-08-29T13:56:54.097246Z",
     "shell.execute_reply": "2021-08-29T13:56:54.096402Z",
     "shell.execute_reply.started": "2021-08-29T13:50:43.193199Z"
    },
    "papermill": {
     "duration": 0.189213,
     "end_time": "2021-08-29T13:56:54.097415",
     "exception": false,
     "start_time": "2021-08-29T13:56:53.908202",
     "status": "completed"
    },
    "tags": []
   },
   "outputs": [],
   "source": [
    "predict_test=model.predict_proba(test_4)\n",
    "pred_df=pd.DataFrame(predict_test,columns=['predict_0', 'predict_1', 'predict_2'])\n",
    "submission_cat=pd.concat([test[['id']],pred_df],axis=1)\n",
    "submission_cat.to_csv('sub_cat_1.csv',index=False,header=True)"
   ]
  },
  {
   "cell_type": "code",
   "execution_count": 26,
   "id": "bfd4b631",
   "metadata": {
    "execution": {
     "iopub.execute_input": "2021-08-29T13:56:54.184319Z",
     "iopub.status.busy": "2021-08-29T13:56:54.183245Z",
     "iopub.status.idle": "2021-08-29T13:56:54.198030Z",
     "shell.execute_reply": "2021-08-29T13:56:54.197430Z",
     "shell.execute_reply.started": "2021-08-29T13:51:07.937395Z"
    },
    "papermill": {
     "duration": 0.059682,
     "end_time": "2021-08-29T13:56:54.198175",
     "exception": false,
     "start_time": "2021-08-29T13:56:54.138493",
     "status": "completed"
    },
    "tags": []
   },
   "outputs": [
    {
     "data": {
      "text/html": [
       "<div>\n",
       "<style scoped>\n",
       "    .dataframe tbody tr th:only-of-type {\n",
       "        vertical-align: middle;\n",
       "    }\n",
       "\n",
       "    .dataframe tbody tr th {\n",
       "        vertical-align: top;\n",
       "    }\n",
       "\n",
       "    .dataframe thead th {\n",
       "        text-align: right;\n",
       "    }\n",
       "</style>\n",
       "<table border=\"1\" class=\"dataframe\">\n",
       "  <thead>\n",
       "    <tr style=\"text-align: right;\">\n",
       "      <th></th>\n",
       "      <th>id</th>\n",
       "      <th>predict_0</th>\n",
       "      <th>predict_1</th>\n",
       "      <th>predict_2</th>\n",
       "    </tr>\n",
       "  </thead>\n",
       "  <tbody>\n",
       "    <tr>\n",
       "      <th>0</th>\n",
       "      <td>11066</td>\n",
       "      <td>0.988431</td>\n",
       "      <td>0.011280</td>\n",
       "      <td>0.000289</td>\n",
       "    </tr>\n",
       "    <tr>\n",
       "      <th>1</th>\n",
       "      <td>18000</td>\n",
       "      <td>0.309371</td>\n",
       "      <td>0.127360</td>\n",
       "      <td>0.563269</td>\n",
       "    </tr>\n",
       "    <tr>\n",
       "      <th>2</th>\n",
       "      <td>16964</td>\n",
       "      <td>0.986726</td>\n",
       "      <td>0.013234</td>\n",
       "      <td>0.000039</td>\n",
       "    </tr>\n",
       "    <tr>\n",
       "      <th>3</th>\n",
       "      <td>4795</td>\n",
       "      <td>0.520250</td>\n",
       "      <td>0.447789</td>\n",
       "      <td>0.031961</td>\n",
       "    </tr>\n",
       "    <tr>\n",
       "      <th>4</th>\n",
       "      <td>3392</td>\n",
       "      <td>0.365517</td>\n",
       "      <td>0.334049</td>\n",
       "      <td>0.300434</td>\n",
       "    </tr>\n",
       "  </tbody>\n",
       "</table>\n",
       "</div>"
      ],
      "text/plain": [
       "      id  predict_0  predict_1  predict_2\n",
       "0  11066   0.988431   0.011280   0.000289\n",
       "1  18000   0.309371   0.127360   0.563269\n",
       "2  16964   0.986726   0.013234   0.000039\n",
       "3   4795   0.520250   0.447789   0.031961\n",
       "4   3392   0.365517   0.334049   0.300434"
      ]
     },
     "execution_count": 26,
     "metadata": {},
     "output_type": "execute_result"
    }
   ],
   "source": [
    "submission_cat.head()"
   ]
  },
  {
   "cell_type": "markdown",
   "id": "190f4a43",
   "metadata": {
    "papermill": {
     "duration": 0.04143,
     "end_time": "2021-08-29T13:56:54.281608",
     "exception": false,
     "start_time": "2021-08-29T13:56:54.240178",
     "status": "completed"
    },
    "tags": []
   },
   "source": [
    "**These are the predicted probabilites. The column with the highest value is the predicted class of severity.**"
   ]
  }
 ],
 "metadata": {
  "kernelspec": {
   "display_name": "Python 3",
   "language": "python",
   "name": "python3"
  },
  "language_info": {
   "codemirror_mode": {
    "name": "ipython",
    "version": 3
   },
   "file_extension": ".py",
   "mimetype": "text/x-python",
   "name": "python",
   "nbconvert_exporter": "python",
   "pygments_lexer": "ipython3",
   "version": "3.7.10"
  },
  "papermill": {
   "default_parameters": {},
   "duration": 18.604917,
   "end_time": "2021-08-29T13:56:55.133484",
   "environment_variables": {},
   "exception": null,
   "input_path": "__notebook__.ipynb",
   "output_path": "__notebook__.ipynb",
   "parameters": {},
   "start_time": "2021-08-29T13:56:36.528567",
   "version": "2.3.3"
  },
  "widgets": {
   "application/vnd.jupyter.widget-state+json": {
    "state": {
     "23bc5eced5d848c9932869e945383b00": {
      "model_module": "catboost-widget",
      "model_module_version": "^1.0.0",
      "model_name": "CatboostWidgetModel",
      "state": {
       "_dom_classes": [],
       "_model_module": "catboost-widget",
       "_model_module_version": "^1.0.0",
       "_model_name": "CatboostWidgetModel",
       "_view_count": null,
       "_view_module": "catboost-widget",
       "_view_module_version": "^1.0.0",
       "_view_name": "CatboostWidgetView",
       "data": {
        "catboost_info": {
         "content": {
          "data": {
           "iterations": [
            {
             "iteration": 0,
             "learn": [
              0.8097317713
             ],
             "passed_time": 0.05809400035,
             "remaining_time": 58.03590635,
             "test": [
              0.8037832097
             ]
            },
            {
             "iteration": 100,
             "learn": [
              0.6558387429
             ],
             "passed_time": 0.5810955585,
             "remaining_time": 5.172325813,
             "test": [
              0.6635585615
             ]
            },
            {
             "iteration": 200,
             "learn": [
              0.6334645326
             ],
             "passed_time": 1.090528597,
             "remaining_time": 4.334986813,
             "test": [
              0.6597331548
             ]
            },
            {
             "iteration": 300,
             "learn": [
              0.6185365533
             ],
             "passed_time": 1.593391962,
             "remaining_time": 3.700269041,
             "test": [
              0.6560338291
             ]
            }
           ],
           "meta": {
            "iteration_count": 1000,
            "launch_mode": "Train",
            "learn_metrics": [
             {
              "best_value": "Min",
              "name": "MultiClass"
             }
            ],
            "learn_sets": [
             "learn"
            ],
            "name": "experiment",
            "parameters": "",
            "test_metrics": [
             {
              "best_value": "Min",
              "name": "MultiClass"
             }
            ],
            "test_sets": [
             "test"
            ]
           }
          },
          "passed_iterations": 300,
          "total_iterations": 1000
         },
         "name": "catboost_info",
         "path": "catboost_info"
        }
       },
       "layout": "IPY_MODEL_726a465945924e0b9bb17e2ce8e49dd2"
      }
     },
     "726a465945924e0b9bb17e2ce8e49dd2": {
      "model_module": "@jupyter-widgets/base",
      "model_module_version": "1.2.0",
      "model_name": "LayoutModel",
      "state": {
       "_model_module": "@jupyter-widgets/base",
       "_model_module_version": "1.2.0",
       "_model_name": "LayoutModel",
       "_view_count": null,
       "_view_module": "@jupyter-widgets/base",
       "_view_module_version": "1.2.0",
       "_view_name": "LayoutView",
       "align_content": null,
       "align_items": null,
       "align_self": "stretch",
       "border": null,
       "bottom": null,
       "display": null,
       "flex": null,
       "flex_flow": null,
       "grid_area": null,
       "grid_auto_columns": null,
       "grid_auto_flow": null,
       "grid_auto_rows": null,
       "grid_column": null,
       "grid_gap": null,
       "grid_row": null,
       "grid_template_areas": null,
       "grid_template_columns": null,
       "grid_template_rows": null,
       "height": "500px",
       "justify_content": null,
       "justify_items": null,
       "left": null,
       "margin": null,
       "max_height": null,
       "max_width": null,
       "min_height": null,
       "min_width": null,
       "object_fit": null,
       "object_position": null,
       "order": null,
       "overflow": null,
       "overflow_x": null,
       "overflow_y": null,
       "padding": null,
       "right": null,
       "top": null,
       "visibility": null,
       "width": null
      }
     }
    },
    "version_major": 2,
    "version_minor": 0
   }
  }
 },
 "nbformat": 4,
 "nbformat_minor": 5
}
